{
 "cells": [
  {
   "cell_type": "code",
   "execution_count": 1,
   "id": "058d85c4",
   "metadata": {},
   "outputs": [],
   "source": [
    "# Q.1. What are escape characters, and how do you use them?\n",
    "# answer-\n",
    "# An escape characters is backslash\\ followed by characters which you want to insert.\n",
    "# It will helps in to do illegal activity in python for eg- double quotes written in double quotes string.\n",
    "# There are many escape characters in python. Followings are the escape characters.\n",
    "# \\n = This characters helps us to add new line.\n",
    "# \\t = This characters helps us to add tab or preform as three space between in sentences.\n",
    "# \\r = This characters helps us to carriage return the value for eg- a = \"hello\\rhey\" this will over-write 1st  three words\n",
    "#      and it will give as 'heylo'\n",
    "# \\' = This characters helps us to add single code between single quotes string for eg- 'what\\'s up' this will be written as 'what's up'"
   ]
  },
  {
   "cell_type": "code",
   "execution_count": 2,
   "id": "82d8aa5e",
   "metadata": {},
   "outputs": [],
   "source": [
    "# Q.2. What do the escape characters n and t stand for?\n",
    "# answer-\n",
    "# n This stands for newline. it will helps us to add new line while coding by using \\n.\n",
    "# t This stands for tab. it will helps us to add tab in sentences by using \\t."
   ]
  },
  {
   "cell_type": "code",
   "execution_count": 3,
   "id": "bfa138f7",
   "metadata": {},
   "outputs": [],
   "source": [
    "# Q.3. What is the way to include backslash characters in a string?\n",
    "# answer-\n",
    "# If we have to include backslash in a string then we have to use two backslash (\\\\) in string."
   ]
  },
  {
   "cell_type": "code",
   "execution_count": 4,
   "id": "1219fbc0",
   "metadata": {},
   "outputs": [],
   "source": [
    "# Q.4. The string \"Howl's Moving Castle\" is a correct value.\n",
    "#      Why isn't the single quote character in the word Howl's not escaped a problem?\n",
    "# answer-\n",
    "# Because of in this statement string is written in double quotes and in the double quotes string\n",
    "# statement uses single quotes.\n",
    "# If we are using single quotes in double quotes string and vice-varsa this will executed without any error."
   ]
  },
  {
   "cell_type": "code",
   "execution_count": 5,
   "id": "f64e8fed",
   "metadata": {},
   "outputs": [
    {
     "name": "stdout",
     "output_type": "stream",
     "text": [
      "one\n",
      "neuron\n"
     ]
    }
   ],
   "source": [
    "# Q.5. How do you write a string of newlines if you don't want to use the n character?\n",
    "# answer-\n",
    "# For that we have to call print() twice.\n",
    "print(\"one\")\n",
    "print(\"neuron\")"
   ]
  },
  {
   "cell_type": "code",
   "execution_count": 6,
   "id": "f2fe3e21",
   "metadata": {},
   "outputs": [],
   "source": [
    "#  Q.6. What are the values of the given expressions?\n",
    "#       'Hello, world!'[1]\n",
    "#       'Hello, world!'[0:5]\n",
    "#       'Hello, world!'[:5]\n",
    "#       'Hello, world!'[3:]\n",
    "#  answer-\n",
    "# 'Hello, world!'[1] = It will give value as 'e'\n",
    "# 'Hello, world!'[0:5] = It will give value as 'Hello'\n",
    "# 'Hello, world!'[:5] = It will give value as 'Hello'\n",
    "# 'Hello, world!'[3:] = It will give value as 'lo, world!'\n"
   ]
  },
  {
   "cell_type": "code",
   "execution_count": 7,
   "id": "565f3af8",
   "metadata": {},
   "outputs": [],
   "source": [
    "# Q.7. What are the values of the following expressions?\n",
    "#     'Hello'.upper()\n",
    "#     'Hello'.upper().isupper()\n",
    "#     'Hello'.upper().lower()\n",
    "# answer-\n",
    "# 'Hello'.upper() # This will give this value as 'HELLO'.\n",
    "# 'Hello'.upper().isupper() # This will give value as True.\n",
    "# 'Hello'.upper().lower() # This will give value as 'hello'\n",
    "\n"
   ]
  },
  {
   "cell_type": "code",
   "execution_count": 8,
   "id": "21d577d1",
   "metadata": {},
   "outputs": [],
   "source": [
    "# Q.8. What are the values of the following expressions?\n",
    "#     'Remember, remember, the fifth of July.'.split()\n",
    "#     '-'.join('There can only one.'.split())\n",
    "# answer-\n",
    "#        'Remember, remember, the fifth of July.'.split() # This will give value\n",
    "#         as ['Remember,', 'remember,', 'the', 'fifth', 'of', 'july.'] Here value split on the basis of space.\n",
    "\n",
    "#        '-'.join('There can only one.'.split()) # This will give value as 'There-can-only-one.'"
   ]
  },
  {
   "cell_type": "code",
   "execution_count": 9,
   "id": "4d1db343",
   "metadata": {},
   "outputs": [],
   "source": [
    "# Q.9. What are the methods for right-justifying, left-justifying, and centering a string?\n",
    "# answer-\n",
    "# rjust(len,fillchar) this is method for right-justifying.\n",
    "# ljust(len,fillchar) this is method for left-justifying.\n",
    "# center(len,fillchar) this is method for center justifying.\n"
   ]
  },
  {
   "cell_type": "code",
   "execution_count": 10,
   "id": "93edee97",
   "metadata": {},
   "outputs": [
    {
     "name": "stdout",
     "output_type": "stream",
     "text": [
      "*********my name is siraj\n"
     ]
    }
   ],
   "source": [
    "# right-justifying\n",
    "a = \"my name is siraj\"\n",
    "print(a.rjust(25 , '*'))"
   ]
  },
  {
   "cell_type": "code",
   "execution_count": 11,
   "id": "c7e3bd2e",
   "metadata": {},
   "outputs": [
    {
     "name": "stdout",
     "output_type": "stream",
     "text": [
      "my name is siraj*********\n"
     ]
    }
   ],
   "source": [
    "# left-justifying\n",
    "print(a.ljust(25,'*'))"
   ]
  },
  {
   "cell_type": "code",
   "execution_count": 12,
   "id": "6eb6be34",
   "metadata": {},
   "outputs": [
    {
     "name": "stdout",
     "output_type": "stream",
     "text": [
      "*****my name is siraj****\n"
     ]
    }
   ],
   "source": [
    "# Centering \n",
    "print(a.center(25,'*'))"
   ]
  },
  {
   "cell_type": "code",
   "execution_count": 13,
   "id": "48177ee6",
   "metadata": {},
   "outputs": [
    {
     "name": "stdout",
     "output_type": "stream",
     "text": [
      "what's up\n"
     ]
    }
   ],
   "source": [
    "# Q.10. What is the best way to remove whitespace characters from the start or end?\n",
    "# answer-\n",
    "# we can use strip() method for removing whitespace characters from the start or end.\n",
    "a = \"     what's up       \"\n",
    "print(a.strip())"
   ]
  },
  {
   "cell_type": "code",
   "execution_count": null,
   "id": "8868a237",
   "metadata": {},
   "outputs": [],
   "source": [
    "# Thank You..."
   ]
  }
 ],
 "metadata": {
  "kernelspec": {
   "display_name": "Python 3 (ipykernel)",
   "language": "python",
   "name": "python3"
  },
  "language_info": {
   "codemirror_mode": {
    "name": "ipython",
    "version": 3
   },
   "file_extension": ".py",
   "mimetype": "text/x-python",
   "name": "python",
   "nbconvert_exporter": "python",
   "pygments_lexer": "ipython3",
   "version": "3.9.7"
  }
 },
 "nbformat": 4,
 "nbformat_minor": 5
}
