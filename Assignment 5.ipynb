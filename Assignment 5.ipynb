{
 "cells": [
  {
   "cell_type": "code",
   "execution_count": 48,
   "id": "7cc0d23c",
   "metadata": {},
   "outputs": [],
   "source": [
    "# Q.1. What does an empty dictionary's code look like?\n",
    "# answer-\n",
    "#       d = {} this empty dictionary's look like."
   ]
  },
  {
   "cell_type": "code",
   "execution_count": 49,
   "id": "01e783fe",
   "metadata": {},
   "outputs": [
    {
     "data": {
      "text/plain": [
       "dict_values([42])"
      ]
     },
     "execution_count": 49,
     "metadata": {},
     "output_type": "execute_result"
    }
   ],
   "source": [
    "# Q.2. What is the value of a dictionary value with the key 'foo' and the value 42?\n",
    "# answer-\n",
    "d = {'foo' : 42}\n",
    "d.values()\n",
    "# Here, the value of dictionary with the key 'foo' is 42"
   ]
  },
  {
   "cell_type": "code",
   "execution_count": 50,
   "id": "e69f3e7c",
   "metadata": {},
   "outputs": [],
   "source": [
    "# Q.3. What is the most significant distinction between a dictionary and a list?\n",
    "# answer-\n",
    "# dictionary written in curly bracket {} for example- d = {'a' : \"apple\"}\n",
    "# in dictionary objects written in key and value pairs.\n",
    "# list written in square bracket [] for example- l = [1,2,3,4,\"one_neuron\"]\n",
    "# in list objects written in sequance manner."
   ]
  },
  {
   "cell_type": "code",
   "execution_count": 51,
   "id": "9af62cda",
   "metadata": {},
   "outputs": [
    {
     "ename": "KeyError",
     "evalue": "'foo'",
     "output_type": "error",
     "traceback": [
      "\u001b[1;31m---------------------------------------------------------------------------\u001b[0m",
      "\u001b[1;31mKeyError\u001b[0m                                  Traceback (most recent call last)",
      "\u001b[1;32mC:\\Users\\SIRAJS~1\\AppData\\Local\\Temp/ipykernel_39164/54324985.py\u001b[0m in \u001b[0;36m<module>\u001b[1;34m\u001b[0m\n\u001b[0;32m      2\u001b[0m \u001b[1;31m# answer-\u001b[0m\u001b[1;33m\u001b[0m\u001b[1;33m\u001b[0m\u001b[0m\n\u001b[0;32m      3\u001b[0m \u001b[0mspam\u001b[0m \u001b[1;33m=\u001b[0m \u001b[1;33m{\u001b[0m\u001b[1;34m'bar'\u001b[0m \u001b[1;33m:\u001b[0m \u001b[1;36m100\u001b[0m\u001b[1;33m}\u001b[0m\u001b[1;33m\u001b[0m\u001b[1;33m\u001b[0m\u001b[0m\n\u001b[1;32m----> 4\u001b[1;33m \u001b[0mspam\u001b[0m\u001b[1;33m[\u001b[0m\u001b[1;34m'foo'\u001b[0m\u001b[1;33m]\u001b[0m\u001b[1;33m\u001b[0m\u001b[1;33m\u001b[0m\u001b[0m\n\u001b[0m\u001b[0;32m      5\u001b[0m \u001b[1;31m# it will throw an error as KeyError.\u001b[0m\u001b[1;33m\u001b[0m\u001b[1;33m\u001b[0m\u001b[0m\n",
      "\u001b[1;31mKeyError\u001b[0m: 'foo'"
     ]
    }
   ],
   "source": [
    "# Q.4. What happens if you try to access spam['foo'] if spam is {'bar': 100}?\n",
    "# answer-\n",
    "spam = {'bar' : 100}\n",
    "spam['foo']\n",
    "# it will throw an error as KeyError."
   ]
  },
  {
   "cell_type": "code",
   "execution_count": 52,
   "id": "30bb869b",
   "metadata": {},
   "outputs": [
    {
     "data": {
      "text/plain": [
       "True"
      ]
     },
     "execution_count": 52,
     "metadata": {},
     "output_type": "execute_result"
    }
   ],
   "source": [
    "# Q.5. If a dictionary is stored in spam, what is the difference between the expressions 'cat' in spam and 'cat' in spam.keys()?\n",
    "# answer-\n",
    "spam = {'cat' : 'dog'}\n",
    "'cat' in spam # this is giving True\n",
    "\n",
    "spam = {'cat' : 'dog'}\n",
    "'cat' in spam.keys() # this is also giving True"
   ]
  },
  {
   "cell_type": "code",
   "execution_count": 53,
   "id": "555a31bb",
   "metadata": {},
   "outputs": [
    {
     "data": {
      "text/plain": [
       "False"
      ]
     },
     "execution_count": 53,
     "metadata": {},
     "output_type": "execute_result"
    }
   ],
   "source": [
    "# Q.6. If a dictionary is stored in spam, what is the difference between the expressions 'cat' in spam and 'cat' in spam.values()?\n",
    "# answer-\n",
    "spam = {'cat' : 'dog'}\n",
    "'cat' in spam # this will gives True\n",
    "\n",
    "spam = {'cat' : 'dog'}\n",
    "'cat' in spam.values() # this will gives False."
   ]
  },
  {
   "cell_type": "code",
   "execution_count": 54,
   "id": "4769c544",
   "metadata": {},
   "outputs": [
    {
     "data": {
      "text/plain": [
       "{'cat': 'dog', 'color': 'black'}"
      ]
     },
     "execution_count": 54,
     "metadata": {},
     "output_type": "execute_result"
    }
   ],
   "source": [
    "# Q.7. What is a shortcut for the following code?\n",
    "#      if 'color' not in spam:\n",
    "#      spam['color'] = 'black'\n",
    "# answer-\n",
    "#      we can use setdefault() function for this code.\n",
    "spam.setdefault('color' , 'black')\n",
    "spam #  this is shortcut method for this code."
   ]
  },
  {
   "cell_type": "code",
   "execution_count": 55,
   "id": "de89f574",
   "metadata": {},
   "outputs": [
    {
     "name": "stdout",
     "output_type": "stream",
     "text": [
      "[{'jersy_no': 45, 'name': 'rohit', 'role': 'batsman'},\n",
      " {'jersy_no': 18, 'name': 'virat', 'role': 'batsman'},\n",
      " {'jersy_no': 7, 'name': 'dhoni', 'role': 'all-rounder'},\n",
      " {'jersy_no': 10, 'name': 'sachin', 'role': 'batsman'}]\n"
     ]
    }
   ],
   "source": [
    "# Q.8. How do you \"pretty print\" dictionary values using which module and function?\n",
    "# answer-\n",
    "#       \"pretty print\" this module helps us read particular data in easy or more redable way.\n",
    "#       1st we have to import pprint after that we can use this module.\n",
    "import pprint\n",
    "indian_cricket_team =[ {'name' : \"rohit\" , 'role' : \"batsman\" , 'jersy_no' : 45},\n",
    "                      {'name' : \"virat\" , 'role' : \"batsman\" , 'jersy_no' : 18},\n",
    "                      {'name' : \"dhoni\" , 'role' : \"all-rounder\" , 'jersy_no' :7},\n",
    "                      {'name' : \"sachin\" , 'role' : \"batsman\" , 'jersy_no' : 10}]\n",
    "\n",
    "pprint.pprint(indian_cricket_team)\n"
   ]
  },
  {
   "cell_type": "code",
   "execution_count": null,
   "id": "eb0cbc2c",
   "metadata": {},
   "outputs": [],
   "source": []
  }
 ],
 "metadata": {
  "kernelspec": {
   "display_name": "Python 3 (ipykernel)",
   "language": "python",
   "name": "python3"
  },
  "language_info": {
   "codemirror_mode": {
    "name": "ipython",
    "version": 3
   },
   "file_extension": ".py",
   "mimetype": "text/x-python",
   "name": "python",
   "nbconvert_exporter": "python",
   "pygments_lexer": "ipython3",
   "version": "3.9.7"
  }
 },
 "nbformat": 4,
 "nbformat_minor": 5
}
