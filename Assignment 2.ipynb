{
 "cells": [
  {
   "cell_type": "code",
   "execution_count": 1,
   "id": "8daf63b4",
   "metadata": {},
   "outputs": [],
   "source": [
    "# Q.1.What are the two values of the Boolean data type? How do you write them?\n",
    "# answer-\n",
    "#       True and False this are the two values of the boolean data type.\n",
    "#       bool() we can write this function for performing boolean data operations."
   ]
  },
  {
   "cell_type": "code",
   "execution_count": 2,
   "id": "d317b1ad",
   "metadata": {},
   "outputs": [],
   "source": [
    "# Q.2.What are the three different types of Boolean operators?\n",
    "\n",
    "# answer- \n",
    "#       1) and boolean operator.\n",
    "#       2) or boolean operator.\n",
    "#       3) not boolean operator.\n",
    "#       This are the three different types of boolean operators. "
   ]
  },
  {
   "cell_type": "code",
   "execution_count": 1,
   "id": "1b2dea06",
   "metadata": {},
   "outputs": [],
   "source": [
    "# Q.3. Make a list of each Boolean operators truth tables (i.e. every possible combination of Boolean\n",
    "#      values for the operator and what it evaluate ).\n",
    "# answer-\n",
    "#       Following are the truth table of boolean operators.\n",
    "#       'and boolean operator' truth tables.\n",
    "#        (False , False) = False\n",
    "#        (True , False) = False\n",
    "#        (False , True) = False\n",
    "#        (True , True) = True \n",
    "\n",
    "#       'or boolean operator' truth tables.\n",
    "#        (False , False) = False\n",
    "#        (True , False) = True\n",
    "#        (False , True) = True\n",
    "#        (True , True) = True\n",
    "\n",
    "#        'not boolean operators' truth tables.\n",
    "#         (True) = false\n",
    "#         (False) = True"
   ]
  },
  {
   "cell_type": "code",
   "execution_count": 4,
   "id": "b7fe085c",
   "metadata": {},
   "outputs": [],
   "source": [
    "# Q.4. What are the values of the following expressions?\n",
    "#      (5 > 4) and (3 == 5)\n",
    "#      not (5 > 4)\n",
    "#      (5 > 4) or (3 == 5)\n",
    "#      not ((5 > 4) or (3 == 5))\n",
    "#      (True and True) and (True == False)\n",
    "#      (not False) or (not True)\n",
    "# answer-\n",
    "#      (5 > 4) and (3 == 5) = False\n",
    "\n",
    "#      not (5 > 4) = False\n",
    "\n",
    "#      (5 > 4) or (3 == 5) = True\n",
    "\n",
    "#      not ((5 > 4) or (3 == 5)) = False\n",
    "\n",
    "#      (True and True) and (True == False) = False\n",
    "\n",
    "#      (not False) or (not True) = True"
   ]
  },
  {
   "cell_type": "code",
   "execution_count": 5,
   "id": "27707914",
   "metadata": {},
   "outputs": [],
   "source": [
    "# Q.5. What are the six comparison operators?\n",
    "# answer-\n",
    "#       1) == it means 'equal to'\n",
    "#       2) != it means 'not equal to'\n",
    "#       3) > it means 'greater than'\n",
    "#       4) < it means 'lesser than'\n",
    "#       5) >= it means 'greater than equal to'\n",
    "#       6) <= it means 'lesser than equal to'\n",
    "#       all the aboves are six comparison operators."
   ]
  },
  {
   "cell_type": "code",
   "execution_count": 6,
   "id": "f5ddef97",
   "metadata": {},
   "outputs": [],
   "source": [
    "# Q.6. How do you tell the difference between the equal to and assignment operators?\n",
    "#      Describe a condition and when you would use one.\n",
    "# answer-\n",
    "#       equal to (==) it means that if both values are equal to each other then it will executed True\n",
    "#       either it will executed False.\n",
    "#       for example- 5==5 it will execute True, 4==5 it will execute False.\n",
    "#       assignment operators (=) it means that left side is variable which hold particular value in memory\n",
    "#       and right side is a value of that variable.\n",
    "#       for example- a = 10 it means that a is variable and 10 is the value.the value of a is 10\n",
    "#       Here,\n",
    "#           a = 10, b = 10 this is assignment operators.\n",
    "#           a == b this is equal to operator and it will execute as True because both values are same."
   ]
  },
  {
   "cell_type": "code",
   "execution_count": 9,
   "id": "42a0c9c1",
   "metadata": {},
   "outputs": [],
   "source": [
    "# Q.7. Identify the three blocks in this code:\n",
    "#      spam = 0\n",
    "#      if spam == 10:\n",
    "#      print('eggs')\n",
    "#      if spam > 5:\n",
    "#      print('bacon')\n",
    "#      else:\n",
    "#      print('ham')\n",
    "#      print('spam')\n",
    "#      print('spam')\n",
    "# answer-\n",
    "#       spam = 0\n",
    "#       if spam == 10 :       this is block one\n",
    "#           print(\"eggs\") \n",
    "#           if spam > 5 :     this is block two\n",
    "#               print(\"bacon\") \n",
    "#           else :            this is block three\n",
    "#               print('ham')\n",
    "#               print(\"spam\")\n",
    "#               print(\"spam\") \n",
    "#       \n"
   ]
  },
  {
   "cell_type": "code",
   "execution_count": 35,
   "id": "cf21c6d9",
   "metadata": {},
   "outputs": [],
   "source": [
    "# Q.8. Write code that prints Hello if 1 is stored in spam,\n",
    "#      prints Howdy if 2 is stored in spam, and prints Greetings! if anything else is stored in spam.\n",
    "# answer-\n",
    "#       def spam_fun() :\n",
    "#           spam = int(input())\n",
    "#           if spam == 1 :\n",
    "#               print(\"Hello\")\n",
    "#           elif spam == 2 :\n",
    "#               print(\"Howdy\")\n",
    "#           else :\n",
    "#               print(\"Greetings!\")      "
   ]
  },
  {
   "cell_type": "code",
   "execution_count": 41,
   "id": "1a749a5f",
   "metadata": {},
   "outputs": [],
   "source": [
    "# Q.9.If your programme is stuck in an endless loop, what keys you’ll press?\n",
    "# answer- \n",
    "#        ctrl - c this keys will be press when program is stuck in endless loop."
   ]
  },
  {
   "cell_type": "code",
   "execution_count": 42,
   "id": "ae2ee68e",
   "metadata": {},
   "outputs": [],
   "source": [
    "# Q.10. How can you tell the difference between break and continue?\n",
    "# answer-\n",
    "#       break statement terminates the whole loop when break executed.\n",
    "#       continue statements terminates only for that particular line code where continue is written and after that it will go again in loop."
   ]
  },
  {
   "cell_type": "code",
   "execution_count": null,
   "id": "fb815d30",
   "metadata": {},
   "outputs": [],
   "source": [
    "# Q.11. In a for loop, what is the difference between range(10), range(0, 10), and range(0, 10, 1)?\n",
    "# answer-\n",
    "#      There is not much difference between them but in range(10) function lower band consider as 0 cause values is not mention.\n",
    "#      range(10) will print 0,1,2,3,4,5,6,7,8,9 here upper band 10 will be exclude.\n",
    "#      in range(0 , 10) in this function for loop will print 0,1,2,3,4,5,6,7,8,9 here upper band 10 will be exclude.\n",
    "#      lower band is 0 and upper band is 10.\n",
    "#      range(0,10,1) here, 0 is lower band , 10 is upper band and 1 is for skiping the step this will also print 0,1,2,3,4,5,6,7,8,9"
   ]
  },
  {
   "cell_type": "code",
   "execution_count": null,
   "id": "4659ae62",
   "metadata": {},
   "outputs": [],
   "source": [
    "# Q.12. Write a short program that prints the numbers 1 to 10 using a for loop.\n",
    "#       Then write an equivalent program that prints the numbers 1 to 10 using a while loop.\n",
    "# answer-\n",
    "#       for i in range(10) :\n",
    "#           print(i+1)\n",
    "\n",
    "#       i=0\n",
    "#       while i < 10 :\n",
    "#           a = i+1\n",
    "#           i = a\n",
    "#           print(a)"
   ]
  },
  {
   "cell_type": "code",
   "execution_count": null,
   "id": "31cd5045",
   "metadata": {},
   "outputs": [],
   "source": [
    "# Q.13.If you had a function named bacon() inside a module named spam, how would you call it after importing spam?\n",
    "# answer-\n",
    "#       import spam\n",
    "#       a = spam.bacon()"
   ]
  }
 ],
 "metadata": {
  "kernelspec": {
   "display_name": "Python 3 (ipykernel)",
   "language": "python",
   "name": "python3"
  },
  "language_info": {
   "codemirror_mode": {
    "name": "ipython",
    "version": 3
   },
   "file_extension": ".py",
   "mimetype": "text/x-python",
   "name": "python",
   "nbconvert_exporter": "python",
   "pygments_lexer": "ipython3",
   "version": "3.9.7"
  }
 },
 "nbformat": 4,
 "nbformat_minor": 5
}
