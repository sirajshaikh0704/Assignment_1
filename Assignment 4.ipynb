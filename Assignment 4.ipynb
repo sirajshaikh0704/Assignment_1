{
 "cells": [
  {
   "cell_type": "code",
   "execution_count": 1,
   "id": "a5e1422f",
   "metadata": {},
   "outputs": [],
   "source": [
    "# Q.1. What exactly is []?\n",
    "# answer-\n",
    "#      This is a Square bracket where we can wright any kind of data.\n",
    "#      After inserting data into square bracket the type of data  will be comes in list type\n",
    "#      With the help of this we can perform various types of operations."
   ]
  },
  {
   "cell_type": "code",
   "execution_count": 8,
   "id": "fc95319c",
   "metadata": {},
   "outputs": [
    {
     "name": "stdout",
     "output_type": "stream",
     "text": [
      "[2, 4, 'hello', 6, 8, 10]\n"
     ]
    }
   ],
   "source": [
    "# Q.2. In a list of values stored in a variable called spam, how would you assign the value 'hello' as the third value?\n",
    "# (Assume [2, 4, 6, 8, 10] are in spam.)\n",
    "# answer-\n",
    "# with help of insert\n",
    "spam = [2,4,6,8,10]\n",
    "spam.insert(2,\"hello\") # here 2 is index no. and its give 3rd value to hello.\n",
    "print(spam)"
   ]
  },
  {
   "cell_type": "code",
   "execution_count": 9,
   "id": "c4c56e45",
   "metadata": {},
   "outputs": [],
   "source": [
    "# Q.Let's pretend the spam includes the list ['a', 'b', 'c', 'd'] for the next three queries."
   ]
  },
  {
   "cell_type": "code",
   "execution_count": 13,
   "id": "747490d8",
   "metadata": {},
   "outputs": [
    {
     "name": "stdout",
     "output_type": "stream",
     "text": [
      "d\n"
     ]
    }
   ],
   "source": [
    "# Q.3. What is the value of spam[int(int('3' * 2) / 11)]?\n",
    "spam =['a', 'b', 'c', 'd']\n",
    "l = spam[int(int('3' * 2) / 11)]\n",
    "print(l)\n",
    "# The value of spam is d"
   ]
  },
  {
   "cell_type": "code",
   "execution_count": 14,
   "id": "bc472311",
   "metadata": {},
   "outputs": [
    {
     "data": {
      "text/plain": [
       "'d'"
      ]
     },
     "execution_count": 14,
     "metadata": {},
     "output_type": "execute_result"
    }
   ],
   "source": [
    "# Q.4. What is the value of spam[-1]?\n",
    "# answer-\n",
    "spam =['a', 'b', 'c', 'd']\n",
    "spam[-1]\n",
    "#Value of spam[-1] is d"
   ]
  },
  {
   "cell_type": "code",
   "execution_count": 16,
   "id": "528b3556",
   "metadata": {},
   "outputs": [
    {
     "data": {
      "text/plain": [
       "['a', 'b']"
      ]
     },
     "execution_count": 16,
     "metadata": {},
     "output_type": "execute_result"
    }
   ],
   "source": [
    "# Q.5. What is the value of spam[:2]?\n",
    "# answer-\n",
    "spam =['a', 'b', 'c', 'd']\n",
    "spam[:2]\n",
    "# Value of spam[:2] is ['a','b'] # here if value is not given then it will consider as 0."
   ]
  },
  {
   "cell_type": "code",
   "execution_count": 17,
   "id": "d900ea71",
   "metadata": {},
   "outputs": [],
   "source": [
    "# Q.Let's pretend bacon has the list [3.14, 'cat,' 11, 'cat,' True] for the next three questions."
   ]
  },
  {
   "cell_type": "code",
   "execution_count": 118,
   "id": "c31b37ac",
   "metadata": {},
   "outputs": [
    {
     "data": {
      "text/plain": [
       "1"
      ]
     },
     "execution_count": 118,
     "metadata": {},
     "output_type": "execute_result"
    }
   ],
   "source": [
    "# Q.6. What is the value of bacon.index('cat')?\n",
    "# answer-\n",
    "bacon = [3.14, 'cat', 11, 'cat', True]\n",
    "bacon.index('cat')\n",
    "# The value of bacon.index('cat') is 1. It will give 1st occurrence 'cat' value index."
   ]
  },
  {
   "cell_type": "code",
   "execution_count": 25,
   "id": "228b8b2e",
   "metadata": {},
   "outputs": [
    {
     "name": "stdout",
     "output_type": "stream",
     "text": [
      "[3.14, 'cat', 11, 'cat', True, 99]\n"
     ]
    }
   ],
   "source": [
    "# Q.7. How does bacon.append(99) change the look of the list value in bacon?\n",
    "# answer-\n",
    "bacon = [3.14, 'cat', 11, 'cat', True]\n",
    "bacon.append(99)\n",
    "print(bacon)\n",
    "# here 99 this value append in list at last."
   ]
  },
  {
   "cell_type": "code",
   "execution_count": 27,
   "id": "7cde5012",
   "metadata": {},
   "outputs": [
    {
     "name": "stdout",
     "output_type": "stream",
     "text": [
      "[3.14, 11, 'cat', True]\n"
     ]
    }
   ],
   "source": [
    "# Q.8. How does bacon.remove('cat') change the look of the list in bacon?\n",
    "# answer-\n",
    "bacon = [3.14, 'cat', 11, 'cat', True]\n",
    "bacon.remove('cat')\n",
    "print(bacon)\n",
    "# Here, it will remove 1st occurrence in the list."
   ]
  },
  {
   "cell_type": "code",
   "execution_count": 36,
   "id": "aa3a28d7",
   "metadata": {},
   "outputs": [
    {
     "name": "stdout",
     "output_type": "stream",
     "text": [
      "[1, 2, 3, 4, 5, 6, 7, 8]\n",
      "[1, 2, 3, 'ineuron', 1, 2, 3, 'ineuron']\n"
     ]
    }
   ],
   "source": [
    "# Q.9. What are the list concatenation and list replication operators?\n",
    "# answer-\n",
    "#       list concatenation operators use for merging two or more than two list. it means one list add in second list\n",
    "#       append, extend, '+' and '*' this will also use for list concatenation. \n",
    "#       For example-\n",
    "a = [1,2,3,4]\n",
    "b = [5,6,7,8]\n",
    "c = a + b\n",
    "print(c)\n",
    "\n",
    "#       list replication operators use for repating the list. For that '*' this asterisk operator use for replications.\n",
    "#       for example-\n",
    "o = [1,2,3,'ineuron'] * 2\n",
    "print(o)\n"
   ]
  },
  {
   "cell_type": "code",
   "execution_count": 45,
   "id": "7c8901d0",
   "metadata": {},
   "outputs": [
    {
     "name": "stdout",
     "output_type": "stream",
     "text": [
      "[1, 2, 3, 4, 5, 6, 7, 8]\n",
      "[1, 2, 6, 3, 4, 5, 'ineuron', 'fsdf']\n"
     ]
    }
   ],
   "source": [
    "# Q.10. What is difference between the list methods append() and insert()?\n",
    "# answer-\n",
    "#       append() this list method appends (add) the value into the end of list.\n",
    "#       For example-\n",
    "a = [1,2,3,4]\n",
    "b = [5,6,7,8]\n",
    "for i in b :\n",
    "    a.append(i)\n",
    "print(a)\n",
    "#       insert() this list method insert the value into list. But here 1st we have to mention index no. as per the index no.\n",
    "#       value will be add at that index no.\n",
    "#       for example-\n",
    "g = [1,2,3,4,5,\"ineuron\",'fsdf']\n",
    "g.insert(2,6)\n",
    "print(g)"
   ]
  },
  {
   "cell_type": "code",
   "execution_count": 46,
   "id": "c66ee459",
   "metadata": {},
   "outputs": [],
   "source": [
    "# Q.11. What are the two methods for removing items from a list?\n",
    "# answer-\n",
    "# k = [10,20,30,40,\"sudh\"]\n",
    "# k.remove() and k.pop() this two methods are for removing items from a list."
   ]
  },
  {
   "cell_type": "code",
   "execution_count": 119,
   "id": "d5f58b8c",
   "metadata": {},
   "outputs": [],
   "source": [
    "# Q.12. Describe how list values and string values are identical.\n",
    "# answer-\n",
    "# list values are written in square bracket for example- l = [1,2,3,4,'ineuron']. list values are written in square bracket.\n",
    "# string values are written in quotes for example- s = 'lenovo' , \"oppo\". string values are written in qaotes'',\"\""
   ]
  },
  {
   "cell_type": "code",
   "execution_count": 120,
   "id": "cea4ea61",
   "metadata": {},
   "outputs": [],
   "source": [
    "# Q.13. What's the difference between tuples and lists?\n",
    "# answer-\n",
    "# list are written in square bracket. For example- [45,18,\"rohit\",'virat']\n",
    "# list is mutable.\n",
    "# tuples are written in round bracket. For example- (10, 7, \"messi\" , \"ronaldo\")\n",
    "# tuple is unmutable."
   ]
  },
  {
   "cell_type": "code",
   "execution_count": 70,
   "id": "bcfb3a2a",
   "metadata": {},
   "outputs": [
    {
     "data": {
      "text/plain": [
       "tuple"
      ]
     },
     "execution_count": 70,
     "metadata": {},
     "output_type": "execute_result"
    }
   ],
   "source": [
    "# Q.14. How do you type a tuple value that only contains the integer 42?\n",
    "# answer-\n",
    "t = (42,)\n",
    "type(t)"
   ]
  },
  {
   "cell_type": "code",
   "execution_count": 121,
   "id": "098d7c55",
   "metadata": {},
   "outputs": [
    {
     "name": "stdout",
     "output_type": "stream",
     "text": [
      "<class 'tuple'>\n",
      "<class 'list'>\n"
     ]
    }
   ],
   "source": [
    "# Q.15. How do you get a list value's tuple form? How do you get a tuple value's list form?\n",
    "# answer-\n",
    "c =[45,10,77,18,\"sudh\"] # this is list.\n",
    "v = tuple(c) # This is a list value in tuple form.\n",
    "print(type(v))\n",
    "\n",
    "z = (46,93,\"hello\",\"sir\") # this is tuple.\n",
    "x = list(z) # This is a tuple value in list form.\n",
    "print(type(x))"
   ]
  },
  {
   "cell_type": "code",
   "execution_count": 89,
   "id": "c41baf5e",
   "metadata": {},
   "outputs": [],
   "source": [
    "# Q.16. Variables that \"contain\" list values are not necessarily lists themselves. Instead, what do they contain?\n",
    "# answer-\n",
    "#       they contain reference data of list values. Variable hold a particular data in memory."
   ]
  },
  {
   "cell_type": "code",
   "execution_count": 122,
   "id": "2af82120",
   "metadata": {},
   "outputs": [],
   "source": [
    "# Q.17. How do you distinguish between copy.copy() and copy.deepcopy()?\n",
    "# answer-\n",
    "#       copy.copy() this create shallow copy list.\n",
    "#       copy.deepcopy() this creates deep copy list.\n",
    "#       In normal list both perform same operations.\n",
    "#       But in nested list shallow copy performs defferent operation.\n",
    "#       and deep copy performs different opearations."
   ]
  },
  {
   "cell_type": "code",
   "execution_count": null,
   "id": "a7afd56f",
   "metadata": {},
   "outputs": [],
   "source": []
  }
 ],
 "metadata": {
  "kernelspec": {
   "display_name": "Python 3 (ipykernel)",
   "language": "python",
   "name": "python3"
  },
  "language_info": {
   "codemirror_mode": {
    "name": "ipython",
    "version": 3
   },
   "file_extension": ".py",
   "mimetype": "text/x-python",
   "name": "python",
   "nbconvert_exporter": "python",
   "pygments_lexer": "ipython3",
   "version": "3.9.7"
  }
 },
 "nbformat": 4,
 "nbformat_minor": 5
}
