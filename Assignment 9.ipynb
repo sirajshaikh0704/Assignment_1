{
 "cells": [
  {
   "cell_type": "code",
   "execution_count": 1,
   "id": "6d6e6c96",
   "metadata": {},
   "outputs": [],
   "source": [
    "# Q.1. To what does a relative path refer?\n",
    "# answer-\n",
    "# The relative path refer to current working directory (pwd)."
   ]
  },
  {
   "cell_type": "code",
   "execution_count": 2,
   "id": "240a2c2c",
   "metadata": {},
   "outputs": [],
   "source": [
    "# Q.2. What does an absolute path start with your operating system?\n",
    "# answer-\n",
    "# An absolute path shows how to access the given file and directory.\n",
    "# An absolute path which always start with root folders to subdirectory.\n"
   ]
  },
  {
   "cell_type": "code",
   "execution_count": 3,
   "id": "6f012cbc",
   "metadata": {},
   "outputs": [],
   "source": [
    "# Q.3. What do the functions os.getcwd() and os.chdir() do?\n",
    "# answer-\n",
    "# The function os.getcwd() of os module is used for finding the current work directory.\n",
    "# getcwd it's stands for get current work directory.\n",
    "\n",
    "# The function os.chdir() of os module is used for changing the current working directory from programs.\n",
    "# chdir it's stands for change directory."
   ]
  },
  {
   "cell_type": "code",
   "execution_count": 4,
   "id": "03477dd7",
   "metadata": {},
   "outputs": [],
   "source": [
    "# Q.4. What are the . and .. folders?\n",
    "# answer-\n",
    "# . this is the current directory folders.\n",
    "# .. it's signifies the parent directory folders."
   ]
  },
  {
   "cell_type": "code",
   "execution_count": 5,
   "id": "a775e34a",
   "metadata": {},
   "outputs": [],
   "source": [
    "# Q.5. In C:\\bacon\\eggs\\spam.txt, which part is the dir name, and which part is the base name?\n",
    "# answer-\n",
    "# C:\\bacon\\eggs this part is dir name. we can extract dir name with the help of os.path.dirname() and dir name is folder name which file exist.\n",
    "# spam.txt this part is base name. we can extract base name with the help of os.path.basename()"
   ]
  },
  {
   "cell_type": "code",
   "execution_count": 6,
   "id": "a3248d41",
   "metadata": {},
   "outputs": [],
   "source": [
    "# Q.6. What are the three “mode” arguments that can be passed to the open() function?\n",
    "# answer-\n",
    "# 'w' file = open(\"test.txt\" , \"w\") this mode perform write operations in the file.\n",
    "# 'r' file = open(\"test.txt\" , \"r\") this mode perform read operations in the file.\n",
    "# 'a' file = open(\"test.txt\" , \"a\") this mode perform append operations.\n",
    "# 'r+' file = open(\"test.txt\" , \"r+\") this mode perform read and write operations."
   ]
  },
  {
   "cell_type": "code",
   "execution_count": 7,
   "id": "de4e62b9",
   "metadata": {},
   "outputs": [],
   "source": [
    "# Q.7. What happens if an existing file is opened in write mode?\n",
    "# answer-\n",
    "# if existing file opened in write mode then all previous data in the file overwritten by passing the new data in the file."
   ]
  },
  {
   "cell_type": "code",
   "execution_count": 8,
   "id": "58e9485a",
   "metadata": {},
   "outputs": [],
   "source": [
    "# Q.8. How do you tell the difference between read() and readlines()?\n",
    "# answer-\n",
    "# read() this method will read all the content of file from start to end and the final result is a string.\n",
    "# readlines() this method will read content of one line but at the end it writtens list insted of string."
   ]
  },
  {
   "cell_type": "code",
   "execution_count": 9,
   "id": "81324cc5",
   "metadata": {},
   "outputs": [],
   "source": [
    "# Q9. What data structure does a shelf value resemble?\n",
    "# answer-\n",
    "# A shelf value resemble dictionary data structure."
   ]
  },
  {
   "cell_type": "code",
   "execution_count": null,
   "id": "6f76e156",
   "metadata": {},
   "outputs": [],
   "source": [
    "# Thank You"
   ]
  }
 ],
 "metadata": {
  "kernelspec": {
   "display_name": "Python 3 (ipykernel)",
   "language": "python",
   "name": "python3"
  },
  "language_info": {
   "codemirror_mode": {
    "name": "ipython",
    "version": 3
   },
   "file_extension": ".py",
   "mimetype": "text/x-python",
   "name": "python",
   "nbconvert_exporter": "python",
   "pygments_lexer": "ipython3",
   "version": "3.9.7"
  }
 },
 "nbformat": 4,
 "nbformat_minor": 5
}
