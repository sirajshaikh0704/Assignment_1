{
 "cells": [
  {
   "cell_type": "code",
   "execution_count": 1,
   "id": "f56db0cb",
   "metadata": {},
   "outputs": [],
   "source": [
    "# Q.1. How do you distinguish between shutil.copy() and shutil.copytree()?\n",
    "# answer-\n",
    "# shutil.copy() this will copy only one file.\n",
    "# shutil.copytree() this will copy entire folder with all files and content of folders."
   ]
  },
  {
   "cell_type": "code",
   "execution_count": 2,
   "id": "afec1474",
   "metadata": {},
   "outputs": [],
   "source": [
    "# Q.2. What function is used to rename files??\n",
    "# answer-\n",
    "# import os\n",
    "# os.rename(old_name , new_name) # with the help of this function we can rename the files."
   ]
  },
  {
   "cell_type": "code",
   "execution_count": 4,
   "id": "21fd2ce4",
   "metadata": {},
   "outputs": [],
   "source": [
    "# Q.3. What is the difference between the delete functions in the send2trash and shutil modules?\n",
    "# answer-\n",
    "# send2trash this function helps to move a files or folders into recycle bin.\n",
    "# shutil function permanently delete the particular files and folders."
   ]
  },
  {
   "cell_type": "code",
   "execution_count": 5,
   "id": "056a35c8",
   "metadata": {},
   "outputs": [],
   "source": [
    "# Q.4.ZipFile objects have a close() method just like File objects’ close() method.\n",
    "#     What ZipFile method is equivalent to File objects’ open() method?\n",
    "# answer-\n",
    "# from zipfile import Zipfile\n",
    "# with ZipFile(file_name, 'r') as zip\n",
    "# this code will open specified zipfile for us. we can use zip object to preform other operation the ziplife. like zip.read()"
   ]
  },
  {
   "cell_type": "code",
   "execution_count": 9,
   "id": "ff6d1682",
   "metadata": {},
   "outputs": [
    {
     "name": "stdout",
     "output_type": "stream",
     "text": [
      "Looking in C:\\Users\\Siraj Shaikh\\randomFolder for files with extensions of .php, .py\n"
     ]
    }
   ],
   "source": [
    "# Q.5. Create a programme that searches a folder tree for files with a certain file extension (such as .pdf or .jpg).\n",
    "#      Copy these files from whatever location they are in to a new folder.\n",
    "# answer-\n",
    "import os, shutil\n",
    "\n",
    "def selectiveCopy(folder, extensions, destFolder):\n",
    "    folder = os.path.abspath(folder)\n",
    "    destFolder = os.path.abspath(destFolder)\n",
    "    print('Looking in', folder, 'for files with extensions of', ', '.join(extensions))\n",
    "    for foldername, subfolders, filenames in os.walk(folder):\n",
    "        for filename in filenames:\n",
    "            name, extension = os.path.splitext(filename)\n",
    "            if extension in extensions:\n",
    "                fileAbsPath = foldername + os.path.sep + filename\n",
    "                print('Coping', fileAbsPath, 'to', destFolder)\n",
    "                shutil.copy(fileAbsPath, destFolder)\n",
    "\n",
    "extensions = ['.php', '.py']\n",
    "folder = 'randomFolder'\n",
    "destFolder = 'selectiveFolder'\n",
    "selectiveCopy(folder, extensions, destFolder)"
   ]
  },
  {
   "cell_type": "code",
   "execution_count": null,
   "id": "88fa52a0",
   "metadata": {},
   "outputs": [],
   "source": []
  }
 ],
 "metadata": {
  "kernelspec": {
   "display_name": "Python 3 (ipykernel)",
   "language": "python",
   "name": "python3"
  },
  "language_info": {
   "codemirror_mode": {
    "name": "ipython",
    "version": 3
   },
   "file_extension": ".py",
   "mimetype": "text/x-python",
   "name": "python",
   "nbconvert_exporter": "python",
   "pygments_lexer": "ipython3",
   "version": "3.9.7"
  }
 },
 "nbformat": 4,
 "nbformat_minor": 5
}
