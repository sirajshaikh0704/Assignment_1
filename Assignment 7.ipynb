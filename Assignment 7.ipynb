{
 "cells": [
  {
   "cell_type": "code",
   "execution_count": 5,
   "id": "3619aa8f",
   "metadata": {},
   "outputs": [],
   "source": [
    "# Q.1. What is the name of the feature responsible for generating Regex objects?\n",
    "# answer-\n",
    "# import re\n",
    "# pattern = re.compile() # This feature responsible for generating Regex objects."
   ]
  },
  {
   "cell_type": "code",
   "execution_count": null,
   "id": "d59178d7",
   "metadata": {},
   "outputs": [],
   "source": [
    "# Q.2. Why do raw strings often appear in Regex objects?\n",
    "# answer-\n",
    "# raw string often appear in regex objects because so that backslash do not have to be escaped.\n",
    "# raw string helps us to escapes sequance characters as it is while printing statement.\n",
    "# for eg-\n",
    "import re\n",
    "pattern = re.compile(r\"\\n\") # it will not execute new line because here we used raw string. it will execute as it is like '\\n'"
   ]
  },
  {
   "cell_type": "code",
   "execution_count": null,
   "id": "957f7e0f",
   "metadata": {},
   "outputs": [],
   "source": [
    "# Q.3. What is the return value of the search() method?\n",
    "# answer-\n",
    "# The return value of serch method is it's try to match the specific value written in the re.search() function \n",
    "# if search value matches the string then it will return the value.else it will return None or -1 if search value doesn't\n",
    "# Matches.\n"
   ]
  },
  {
   "cell_type": "code",
   "execution_count": 10,
   "id": "3e11be9b",
   "metadata": {},
   "outputs": [
    {
     "name": "stdout",
     "output_type": "stream",
     "text": [
      "+919987766554\n"
     ]
    }
   ],
   "source": [
    "# Q.4. From a Match item, how do you get the actual strings that match the pattern?\n",
    "# answer-\n",
    "import re\n",
    "pattern = re.compile(r'\\+\\d{12}')\n",
    "phone_no = pattern.search(r\"this is my phone no +919987766554\")\n",
    "print(phone_no.group())\n",
    "# by this way we will get actual strings that match the pattern."
   ]
  },
  {
   "cell_type": "code",
   "execution_count": 15,
   "id": "13d7612e",
   "metadata": {},
   "outputs": [],
   "source": [
    "# Q.5. In the regex which created from the r'(\\d\\d\\d)-(\\d\\d\\d-\\d\\d\\d\\d)', what does group zero cover? Group 2? Group 1?\n",
    "# answer-\n",
    "import re \n",
    "pattern = re.compile(r\"(\\d\\d\\d)-(\\d\\d\\d-\\d\\d\\d\\d)\")\n",
    "number = pattern.search(r\"this is a vip no 123-456-7890\")"
   ]
  },
  {
   "cell_type": "code",
   "execution_count": 17,
   "id": "3943ebb9",
   "metadata": {},
   "outputs": [
    {
     "name": "stdout",
     "output_type": "stream",
     "text": [
      "123\n"
     ]
    }
   ],
   "source": [
    "print(number.group(1)) # Group 1 covers this"
   ]
  },
  {
   "cell_type": "code",
   "execution_count": 19,
   "id": "fd446887",
   "metadata": {},
   "outputs": [
    {
     "name": "stdout",
     "output_type": "stream",
     "text": [
      "456-7890\n"
     ]
    }
   ],
   "source": [
    "print(number.group(2)) # Group 2 covers this"
   ]
  },
  {
   "cell_type": "code",
   "execution_count": 20,
   "id": "c764af36",
   "metadata": {},
   "outputs": [
    {
     "name": "stdout",
     "output_type": "stream",
     "text": [
      "123-456-7890\n"
     ]
    }
   ],
   "source": [
    "print(number.group(0)) # Group 0 covers this"
   ]
  },
  {
   "cell_type": "code",
   "execution_count": 21,
   "id": "f66a3eec",
   "metadata": {},
   "outputs": [],
   "source": [
    "# Q.6. In standard expression syntax, parentheses and intervals have distinct meanings.\n",
    "#      How can you tell a regex that you want it to fit real parentheses and periods?\n",
    "# answer-\n",
    "# periods and paranthesis can be escaped with backslash \\.,\\(, and \\)."
   ]
  },
  {
   "cell_type": "code",
   "execution_count": 23,
   "id": "39b811c8",
   "metadata": {},
   "outputs": [],
   "source": [
    "# Q.7. The findall() method returns a string list or a list of string tuples.\n",
    "#      What causes it to return one of the two options?\n",
    "# answer-\n",
    "# The findall() method returns a string list when there is no group in the regex then return value is string lists.\n",
    "# If there are two or more than two groups are available then it will return list of string tuples."
   ]
  },
  {
   "cell_type": "code",
   "execution_count": 31,
   "id": "910cc3b5",
   "metadata": {},
   "outputs": [
    {
     "name": "stdout",
     "output_type": "stream",
     "text": [
      "toss win by rohit and choose to  bat  first.\n"
     ]
    }
   ],
   "source": [
    "# Q.8. In standard expressions, what does the | character mean?\n",
    "# answer-\n",
    "# This | character means either or\n",
    "import re\n",
    "pattern = re.compile(r\"bat | ball\")\n",
    "cricket = pattern.search(\"if rohit win the toss he will chose bat or ball\")\n",
    "print(\"toss win by rohit and choose to \" , cricket.group() , \"first.\")\n",
    "# if the right side of characters values is true then right side value will be return and the left side value will be ignore."
   ]
  },
  {
   "cell_type": "code",
   "execution_count": 32,
   "id": "a4be9189",
   "metadata": {},
   "outputs": [
    {
     "data": {
      "text/plain": [
       "'batball'"
      ]
     },
     "execution_count": 32,
     "metadata": {},
     "output_type": "execute_result"
    }
   ],
   "source": [
    "# Q.9. In regular expressions, what does the character stand for?\n",
    "# answer-\n",
    "# this characters defines the occurance will be 0 or (1).\n",
    "import re\n",
    "betregex = re.compile(r'bat(wo)?ball')\n",
    "pattern = betregex.search(\"the adventure of batball\")\n",
    "pattern.group()"
   ]
  },
  {
   "cell_type": "code",
   "execution_count": 33,
   "id": "7175d0db",
   "metadata": {},
   "outputs": [],
   "source": [
    "# Q.10.In regular expressions, what is the difference between the + and * characters?\n",
    "# answer-\n",
    "# regular expressions + characters means that occur 1 or more times.\n",
    "# regular expressions * characters means that occure 0 or more times"
   ]
  },
  {
   "cell_type": "code",
   "execution_count": 1,
   "id": "68dc5bda",
   "metadata": {},
   "outputs": [],
   "source": [
    "# Q.11. What is the difference between {4} and {4,5} in regular expression?\n",
    "# answer-\n",
    "# {4} it means that the value will be return 4 instances. \n",
    "# {4,5} it means that the value will be return between 4,5 instances."
   ]
  },
  {
   "cell_type": "code",
   "execution_count": 1,
   "id": "32c8fc88",
   "metadata": {},
   "outputs": [],
   "source": [
    "# Q.12. What do you mean by the \\d, \\w, and \\s shorthand character classes signify in regular expressions?\n",
    "# amswer-\n",
    "# \\d it will be matches single digit any numeric value from[0 - 9]\n",
    "# \\w it will matches the single word , single digit and any underscore_characters any value from [a-z , A-Z, 0-9 , _ etc. ]\n",
    "# \\s it will matches white space in the string."
   ]
  },
  {
   "cell_type": "code",
   "execution_count": 2,
   "id": "f2f44b54",
   "metadata": {},
   "outputs": [],
   "source": [
    "# Q.13. What do means by \\D, \\W, and \\S shorthand character classes signify in regular expressions?\n",
    "# answer-\n",
    "# \\D it will returns match where does not contain digit in the string.\n",
    "# \\W it will returns match where does not contain any word , any digit and undercore characters in the string.\n",
    "# \\S it will returns match where does not contain any white space characters in the string."
   ]
  },
  {
   "cell_type": "code",
   "execution_count": 3,
   "id": "fdd7dc42",
   "metadata": {},
   "outputs": [],
   "source": [
    "# Q.14. What is the difference between .* and .*?\n",
    "# answer-\n",
    "# .* it will be consider as greedy quantifiers. it means that it will matches the stirng as possible to match.\n",
    "# .*? it will be consider as non greedy quantifiers. it means that it will matches the sting only one characters and done with it."
   ]
  },
  {
   "cell_type": "code",
   "execution_count": 4,
   "id": "e7ba8b4c",
   "metadata": {},
   "outputs": [],
   "source": [
    "# Q.15. What is the syntax for matching both numbers and lowercase letters with a character class?\n",
    "# answer-\n",
    "# either [a-z 0-9] or [0-9 a-z] this is syntax for matching both numbers and lowercase letters."
   ]
  },
  {
   "cell_type": "code",
   "execution_count": 5,
   "id": "154a0954",
   "metadata": {},
   "outputs": [],
   "source": [
    "# Q.16. What is the procedure for making a normal expression in regax case insensitive?\n",
    "# answer-\n",
    "# with the help of re.i or re.ignorecase as a second argument in re.compile() we can procedure for making a normal expression in regex case insensitive."
   ]
  },
  {
   "cell_type": "code",
   "execution_count": 6,
   "id": "84113f61",
   "metadata": {},
   "outputs": [],
   "source": [
    "# Q.17. What does the . character normally match? What does it match if re.DOTALL is passed as 2nd argument in re.compile()?\n",
    "# answer-\n",
    "# The . character normally matches any character except the newline character. \n",
    "# If re.DOTALL is passed as the second argument to re.compile(), then the dot will be also match newline characters."
   ]
  },
  {
   "cell_type": "code",
   "execution_count": 11,
   "id": "d2e52640",
   "metadata": {},
   "outputs": [
    {
     "data": {
      "text/plain": [
       "'X drummers, X pipers, five rings, X hen'"
      ]
     },
     "execution_count": 11,
     "metadata": {},
     "output_type": "execute_result"
    }
   ],
   "source": [
    "# Q.18. If numReg = re.compile(r'\\d+'), what will numRegex.sub('X', '11 drummers, 10 pipers, five rings, 4 hen') return?\n",
    "# answer-\n",
    "import re\n",
    "numReg = re.compile(r'\\d+')\n",
    "mo = numReg.sub('X', '11 drummers, 10 pipers, five rings, 4 hen')\n",
    "mo"
   ]
  },
  {
   "cell_type": "code",
   "execution_count": 12,
   "id": "09e0144d",
   "metadata": {},
   "outputs": [],
   "source": [
    "# Q.19. What does passing re.VERBOSE as the 2nd argument to re.compile() allow to do?\n",
    "# answer-\n",
    "# The re.VERBOSE argument allows you to add whitespace and comments to the string passed to re.compile()"
   ]
  },
  {
   "cell_type": "code",
   "execution_count": 13,
   "id": "09af16df",
   "metadata": {},
   "outputs": [],
   "source": [
    "# Q.20. How would you write a regex that match a number with comma for every three digits? It must match the given following:\n",
    "#       '42'\n",
    "#       '1,234'\n",
    "#       '6,368,745'\n",
    "#       but not the following:\n",
    "#       '12,34,567' (which has only two digits between the commas)\n",
    "#       '1234' (which lacks commas)\n"
   ]
  },
  {
   "cell_type": "code",
   "execution_count": 14,
   "id": "546eba9b",
   "metadata": {},
   "outputs": [
    {
     "data": {
      "text/plain": [
       "'42'"
      ]
     },
     "execution_count": 14,
     "metadata": {},
     "output_type": "execute_result"
    }
   ],
   "source": [
    "reg1 = re.compile(r'^\\d{1,3}(,\\d{3})*$')\n",
    "mo1 = reg1.search('42')\n",
    "mo1.group()"
   ]
  },
  {
   "cell_type": "code",
   "execution_count": 15,
   "id": "eb1fd347",
   "metadata": {},
   "outputs": [
    {
     "data": {
      "text/plain": [
       "'1,234'"
      ]
     },
     "execution_count": 15,
     "metadata": {},
     "output_type": "execute_result"
    }
   ],
   "source": [
    "reg1 = re.compile(r'^\\d{1,3}(,\\d{3})*$')\n",
    "mo1 = reg1.search('1,234')\n",
    "mo1.group()"
   ]
  },
  {
   "cell_type": "code",
   "execution_count": 16,
   "id": "d1346b7d",
   "metadata": {},
   "outputs": [
    {
     "data": {
      "text/plain": [
       "'6,368,745'"
      ]
     },
     "execution_count": 16,
     "metadata": {},
     "output_type": "execute_result"
    }
   ],
   "source": [
    "reg1 = re.compile(r'^\\d{1,3}(,\\d{3})*$')\n",
    "mo1 = reg1.search('6,368,745')\n",
    "mo1.group()"
   ]
  },
  {
   "cell_type": "code",
   "execution_count": 17,
   "id": "9b24afd0",
   "metadata": {},
   "outputs": [],
   "source": [
    "# Q.21. How would you write a regex that matches the full name of someone whose last name is Watanabe? You can assume that the first name that comes before it will always be one word that begins with a capital letter. The regex must match the following:\n",
    "#      'Haruto Watanabe'\n",
    "#      'Alice Watanabe'\n",
    "#      'RoboCop Watanabe'\n",
    "#      but not the following:\n",
    "#      'haruto Watanabe' (where the first name is not capitalized)\n",
    "#      'Mr. Watanabe' (where the preceding word has a nonletter character)\n",
    "#      'Watanabe' (which has no first name)\n",
    "#      'Haruto watanabe' (where Watanabe is not capitalized)\n"
   ]
  },
  {
   "cell_type": "code",
   "execution_count": 18,
   "id": "1233c583",
   "metadata": {},
   "outputs": [
    {
     "data": {
      "text/plain": [
       "'Haruto Watanabe'"
      ]
     },
     "execution_count": 18,
     "metadata": {},
     "output_type": "execute_result"
    }
   ],
   "source": [
    "name = re.compile(r'[A-Z][a-z]*\\sWatanabe')\n",
    "reg1 = re.compile(r'^\\d{1,3}(,\\d{haruto Watanabe3})*$')\n",
    "mo1 = name.search('Haruto Watanabe')\n",
    "mo1.group()\n"
   ]
  },
  {
   "cell_type": "code",
   "execution_count": 19,
   "id": "d90a7ce9",
   "metadata": {},
   "outputs": [
    {
     "data": {
      "text/plain": [
       "'Alice Watanabe'"
      ]
     },
     "execution_count": 19,
     "metadata": {},
     "output_type": "execute_result"
    }
   ],
   "source": [
    "name = re.compile(r'[A-Z][a-z]*\\sWatanabe')\n",
    "reg1 = re.compile(r'^\\d{1,3}(,\\d{3})*$')\n",
    "mo1 = name.search('Alice Watanabe')\n",
    "mo1.group()"
   ]
  },
  {
   "cell_type": "code",
   "execution_count": 20,
   "id": "2c10ac93",
   "metadata": {},
   "outputs": [
    {
     "data": {
      "text/plain": [
       "'Robocop Watanabe'"
      ]
     },
     "execution_count": 20,
     "metadata": {},
     "output_type": "execute_result"
    }
   ],
   "source": [
    "name = re.compile(r'[A-Z][a-z]*\\sWatanabe')\n",
    "reg1 = re.compile(r'^\\d{1,3}(,\\d{3})*$')\n",
    "mo1 = name.search('Robocop Watanabe')\n",
    "mo1.group()"
   ]
  },
  {
   "cell_type": "code",
   "execution_count": 21,
   "id": "152e7653",
   "metadata": {},
   "outputs": [
    {
     "ename": "AttributeError",
     "evalue": "'NoneType' object has no attribute 'group'",
     "output_type": "error",
     "traceback": [
      "\u001b[1;31m---------------------------------------------------------------------------\u001b[0m",
      "\u001b[1;31mAttributeError\u001b[0m                            Traceback (most recent call last)",
      "\u001b[1;32mC:\\Users\\SIRAJS~1\\AppData\\Local\\Temp/ipykernel_70624/3194432359.py\u001b[0m in \u001b[0;36m<module>\u001b[1;34m\u001b[0m\n\u001b[0;32m      2\u001b[0m \u001b[0mreg1\u001b[0m \u001b[1;33m=\u001b[0m \u001b[0mre\u001b[0m\u001b[1;33m.\u001b[0m\u001b[0mcompile\u001b[0m\u001b[1;33m(\u001b[0m\u001b[1;34mr'^\\d{1,3}(,\\d{3})*$'\u001b[0m\u001b[1;33m)\u001b[0m\u001b[1;33m\u001b[0m\u001b[1;33m\u001b[0m\u001b[0m\n\u001b[0;32m      3\u001b[0m \u001b[0mmo1\u001b[0m \u001b[1;33m=\u001b[0m \u001b[0mname\u001b[0m\u001b[1;33m.\u001b[0m\u001b[0msearch\u001b[0m\u001b[1;33m(\u001b[0m\u001b[1;34m'haruto Watanabe'\u001b[0m\u001b[1;33m)\u001b[0m\u001b[1;33m\u001b[0m\u001b[1;33m\u001b[0m\u001b[0m\n\u001b[1;32m----> 4\u001b[1;33m \u001b[0mmo1\u001b[0m\u001b[1;33m.\u001b[0m\u001b[0mgroup\u001b[0m\u001b[1;33m(\u001b[0m\u001b[1;33m)\u001b[0m\u001b[1;33m\u001b[0m\u001b[1;33m\u001b[0m\u001b[0m\n\u001b[0m",
      "\u001b[1;31mAttributeError\u001b[0m: 'NoneType' object has no attribute 'group'"
     ]
    }
   ],
   "source": [
    "name = re.compile(r'[A-Z][a-z]*\\sWatanabe')\n",
    "reg1 = re.compile(r'^\\d{1,3}(,\\d{3})*$')\n",
    "mo1 = name.search('haruto Watanabe')\n",
    "mo1.group()"
   ]
  },
  {
   "cell_type": "code",
   "execution_count": 23,
   "id": "71231847",
   "metadata": {},
   "outputs": [],
   "source": [
    "# Q.22. How would you write a regex that matches a sentence where the first word is either Alice, Bob, or Carol;\n",
    "#       the second word is either eats, pets, or throws;\n",
    "#       the third word is apples, cats, or baseballs; and the sentence ends with a period? This regex should be case-insensitive.\n",
    "#       It must match the following:\n",
    "#      'Alice eats apples.'\n",
    "#      'Bob pets cats.'\n",
    "#      'Carol throws baseballs.'\n",
    "#      'Alice throws Apples.'\n",
    "#      'BOB EATS CATS.'\n",
    "#      but not the following:\n",
    "#      'RoboCop eats apples.'\n",
    "#      'ALICE THROWS FOOTBALLS.'\n",
    "#      'Carol eats 7 cats.'\n"
   ]
  },
  {
   "cell_type": "code",
   "execution_count": 24,
   "id": "25afa3cb",
   "metadata": {},
   "outputs": [
    {
     "data": {
      "text/plain": [
       "'Alice eats apples.'"
      ]
     },
     "execution_count": 24,
     "metadata": {},
     "output_type": "execute_result"
    }
   ],
   "source": [
    "name = re.compile(r'(Alice|Bob|Carol)\\s(eats|pets|throws)\\s(apples|cats|baseballs)\\.', re.IGNORECASE)\n",
    "\n",
    "mo1 = name.search('Alice eats apples.')\n",
    "mo1.group()"
   ]
  },
  {
   "cell_type": "code",
   "execution_count": 25,
   "id": "ec370f4d",
   "metadata": {},
   "outputs": [
    {
     "data": {
      "text/plain": [
       "'Carol throws baseballs.'"
      ]
     },
     "execution_count": 25,
     "metadata": {},
     "output_type": "execute_result"
    }
   ],
   "source": [
    "name = re.compile(r'(Alice|Bob|Carol)\\s(eats|pets|throws)\\s(apples|cats|baseballs)\\.', re.IGNORECASE)\n",
    "\n",
    "mo1 = name.search('Carol throws baseballs.')\n",
    "mo1.group()"
   ]
  },
  {
   "cell_type": "code",
   "execution_count": null,
   "id": "e81c4fbc",
   "metadata": {},
   "outputs": [],
   "source": []
  }
 ],
 "metadata": {
  "kernelspec": {
   "display_name": "Python 3 (ipykernel)",
   "language": "python",
   "name": "python3"
  },
  "language_info": {
   "codemirror_mode": {
    "name": "ipython",
    "version": 3
   },
   "file_extension": ".py",
   "mimetype": "text/x-python",
   "name": "python",
   "nbconvert_exporter": "python",
   "pygments_lexer": "ipython3",
   "version": "3.9.7"
  }
 },
 "nbformat": 4,
 "nbformat_minor": 5
}
