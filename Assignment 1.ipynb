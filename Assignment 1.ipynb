{
 "cells": [
  {
   "cell_type": "code",
   "execution_count": 1,
   "id": "580c35af",
   "metadata": {},
   "outputs": [],
   "source": [
    "# Q.1 in the below elements which of them are values or an expression? eg :- values can be integer or string and expressions will be mathematical operators\n",
    "# answers -\n",
    "# * = this is expression , 'hello' = this is value. , -87.8 = this is value. , - = this is expression.\n",
    "# / = this is expression , + = this is expression , 6 = this is value"
   ]
  },
  {
   "cell_type": "code",
   "execution_count": 4,
   "id": "18920613",
   "metadata": {},
   "outputs": [],
   "source": [
    "# Q.2 What is the difference between string and variable?\n",
    "# answer -\n",
    "#string :- string is the data type. for creating string data must be written in quotes.\n",
    "#          with the help of quotation we can wright any kind of data and this data will be consider as string type.\n",
    "#          for example :- \"ineuron\" , \"data\" , \"1234\" , \"1,2,3,4\"\n",
    "\n",
    "#Variable :- variable helps us to hold a particula data in memory. with the help of variable we can hold any type of data.\n",
    "#            variable gives data for computer processing\n",
    "#            for example a = \"hello\" here, a is variable and it's containing string type data.\n"
   ]
  },
  {
   "cell_type": "code",
   "execution_count": 5,
   "id": "87bdc1f4",
   "metadata": {},
   "outputs": [],
   "source": [
    "# Q.3 Describe three different data types.\n",
    "# answer - \n",
    "#         In python there are various types of data.\n",
    "#         1) Sting\n",
    "#         2) Integer\n",
    "#         3) List\n",
    "# 1) String-\n",
    "#          Data which is written in quotation called as sting type of data.\n",
    "#          In string data will be written in single , double or triple Quotes as per the requirment.\n",
    "#          for example:- a = \"siraj\" , a = \"45\" etc.\n",
    "# 2) Integer-\n",
    "#          Data which is written in Numeric value called as integer type of data.\n",
    "#          intiger type of data contain Numbers. 20.10 this type of numbers not consider integer it's consider as float.\n",
    "#          for example:- a = 20 , a = 45 etc.\n",
    "# 3) List-\n",
    "#          Data which is written in square bracket known as List type of data.\n",
    "#          With the help of list we can perform various types of operations.\n",
    "#          for example:- a = [1,2,3,4,\"siri\"]\n",
    "#          "
   ]
  },
  {
   "cell_type": "code",
   "execution_count": 6,
   "id": "05aed91d",
   "metadata": {},
   "outputs": [],
   "source": [
    "# Q.4 What is an expression made up of? What do all expressions do? \n",
    "# answer - \n",
    "#        Expressions are representations of values. It contains combination of symbols.\n",
    "#        Expression is combination of operator and operand.\n",
    "#        With the help of expression we can perfornm various type of operations like additon , subtraction , multiplications , divide etc.\n",
    "#        In short different types of expressions do different types of operations.\n",
    "#        For example:-\n",
    "#                   a+b = Additon\n",
    "#                   a-b = Subtraction\n",
    "#                   a*b = Multiplication\n",
    "#                   a/b = Division\n",
    "#                   a%b = Remainder etc."
   ]
  },
  {
   "cell_type": "code",
   "execution_count": 1,
   "id": "bab44e39",
   "metadata": {},
   "outputs": [],
   "source": [
    "# Q.5 This assignment statements, like spam = 10. What is thr difference between an expression and a statement?\n",
    "# answer - \n",
    "#        Expression is combination of operators and operands which represent values.\n",
    "#        Expression is the legal combination of symbols.\n",
    "#        spam = 10 here,  spam = 10 expression and also spam = 10 this line of code knowns as statement.\n",
    "#        we called print() for executing the code this print command we call print statement\n"
   ]
  },
  {
   "cell_type": "code",
   "execution_count": 2,
   "id": "b78236cf",
   "metadata": {},
   "outputs": [],
   "source": [
    "# Q.6 After running the following code, what does the variable bacon contain?\n",
    "# bacon = 22\n",
    "# bacon + 1\n",
    "# answer - \n",
    "#       22\n",
    "#       Variable bacon contain 22 "
   ]
  },
  {
   "cell_type": "code",
   "execution_count": 4,
   "id": "a4e7b2e2",
   "metadata": {},
   "outputs": [],
   "source": [
    "# Q.7 7. What should the values of the following two terms be?\n",
    "# 'spam' + 'spamspam'\n",
    "# 'spam' * 3 \n",
    "# answer - \n",
    "#         'spamspamspam' this is the value."
   ]
  },
  {
   "cell_type": "code",
   "execution_count": 5,
   "id": "821abeb3",
   "metadata": {},
   "outputs": [],
   "source": [
    "# Q.8 Why is eggs a valid variable name while 100 is invalid?\n",
    "# answer -\n",
    "#        eggs a valid because its containing alphabetic variable(a-z) value.\n",
    "#        On the other hand 100 is invalid because its containing numeric value variable at the start of variable."
   ]
  },
  {
   "cell_type": "code",
   "execution_count": 6,
   "id": "ae67bbe5",
   "metadata": {},
   "outputs": [],
   "source": [
    "# Q.9 What three functions can be used to get the integer, floating-point number, or string version of a value?\n",
    "# answer - \n",
    "#        for, integer = int()\n",
    "#             floating-point number = float()\n",
    "#             string = str()"
   ]
  },
  {
   "cell_type": "code",
   "execution_count": 7,
   "id": "7f197816",
   "metadata": {},
   "outputs": [],
   "source": [
    "# Q.10 Why does this expression cause an error? How can you fix it?\n",
    "# 'I have eaten' + 99 + \"burittos\"\n",
    "# answer - \n",
    "#        this expression cause error because of 99 is int type and other are str type values.\n",
    "#        in python can only concatenate str to str. cannot concatenate str to int.\n",
    "#        we can fix this error with the help of str() function. This function convert the integer to string.\n",
    "#        so all the values are string. then it will execute without any error. "
   ]
  },
  {
   "cell_type": "code",
   "execution_count": null,
   "id": "421be48d",
   "metadata": {},
   "outputs": [],
   "source": [
    "# Thank You."
   ]
  }
 ],
 "metadata": {
  "kernelspec": {
   "display_name": "Python 3 (ipykernel)",
   "language": "python",
   "name": "python3"
  },
  "language_info": {
   "codemirror_mode": {
    "name": "ipython",
    "version": 3
   },
   "file_extension": ".py",
   "mimetype": "text/x-python",
   "name": "python",
   "nbconvert_exporter": "python",
   "pygments_lexer": "ipython3",
   "version": "3.9.7"
  }
 },
 "nbformat": 4,
 "nbformat_minor": 5
}
