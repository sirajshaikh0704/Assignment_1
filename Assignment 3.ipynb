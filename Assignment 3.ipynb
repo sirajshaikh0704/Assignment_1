{
 "cells": [
  {
   "cell_type": "code",
   "execution_count": 1,
   "id": "6336ef96",
   "metadata": {},
   "outputs": [],
   "source": [
    "# Q.1. Why are functions advantageous to have in your programs?\n",
    "# answer-\n",
    "#       With help of function we dont required to type same code.\n",
    "#       Functions makes reusability of code.\n",
    "#       Functions reduce our time while coding.\n",
    "#       Functions makes our work easy."
   ]
  },
  {
   "cell_type": "code",
   "execution_count": 2,
   "id": "735edb49",
   "metadata": {},
   "outputs": [],
   "source": [
    "# Q.2. When does the code in a function run: when it's specified or when it's called?\n",
    "#     answer- \n",
    "#           Functions creates with def \n",
    "#           When we call the function that time function run\n",
    "#           for example- def fun1() :\n",
    "#           When we have to execute same code but different values that time we called the functions"
   ]
  },
  {
   "cell_type": "code",
   "execution_count": 1,
   "id": "f7171cb8",
   "metadata": {},
   "outputs": [],
   "source": [
    "# Q.3. What statement creates a function?\n",
    "# answer-\n",
    "#       statements are indicates to python that we want to create a functions.\n",
    "#       def fun1() :\n",
    "#         pass    this type of statements creates the functions."
   ]
  },
  {
   "cell_type": "code",
   "execution_count": 4,
   "id": "74e7236d",
   "metadata": {},
   "outputs": [],
   "source": [
    "# Q.4. What is the difference between a function and a function call?\n",
    "# answer-\n",
    "#      Function is a part of program. Functions is piece of code it helps us to execute same code with defferent values. \n",
    "#      Function creates reusability of code.\n",
    "#      Whereas function call meanse calling that particular code.\n",
    "#      Without function call we cannot run function\n",
    "#      So function is part of program and function call meanse calling or run that function."
   ]
  },
  {
   "cell_type": "code",
   "execution_count": 2,
   "id": "204c2005",
   "metadata": {},
   "outputs": [],
   "source": [
    "# Q.5. How many global scopes are there in a Python program? How many local scopes?\n",
    "# answer-\n",
    "#       In python programming there are one global scope and one local scopes are available"
   ]
  },
  {
   "cell_type": "code",
   "execution_count": 3,
   "id": "9a8484ce",
   "metadata": {},
   "outputs": [],
   "source": [
    "# Q.6. What happens to variables in a local scope when the function call returns?\n",
    "# answer-\n",
    "#       When we call the returns the local scopes destroyed and this particular variables are forgotten"
   ]
  },
  {
   "cell_type": "code",
   "execution_count": 4,
   "id": "7f210c20",
   "metadata": {},
   "outputs": [],
   "source": [
    "# Q.7. What is the concept of a return value? Is it possible to have a return value in an expression?\n",
    "# answer-\n",
    "#      The specific value return from function is called as return value.\n",
    "#      It is possible to have  a return value in expression.\n"
   ]
  },
  {
   "cell_type": "code",
   "execution_count": 11,
   "id": "d8fbc351",
   "metadata": {},
   "outputs": [],
   "source": [
    "# Q.8.If a function does not have a return statement, what is the return value of a call to that function?\n",
    "# answer-\n",
    "#       If a function does not have a return statement then it will returns None."
   ]
  },
  {
   "cell_type": "code",
   "execution_count": 12,
   "id": "6dab5747",
   "metadata": {},
   "outputs": [],
   "source": [
    "# Q.9.How do you make a function variable refer to the global variable?\n",
    "# answer-\n",
    "#      For that i will write global keyword for function variable refer to global variable."
   ]
  },
  {
   "cell_type": "code",
   "execution_count": 13,
   "id": "6e1daa77",
   "metadata": {},
   "outputs": [],
   "source": [
    "# Q.10. What is the data type of None?\n",
    "# answer-\n",
    "#       the data type of None is NoneType"
   ]
  },
  {
   "cell_type": "code",
   "execution_count": 16,
   "id": "d6e92025",
   "metadata": {},
   "outputs": [],
   "source": [
    "# Q.11. What does the sentence import areallyourpetsnamederic do?\n",
    "# answer-\n",
    "#       this is not a real pythonic module. It will import module name areallyourpetsnamederic.   "
   ]
  },
  {
   "cell_type": "code",
   "execution_count": 18,
   "id": "4fcf0017",
   "metadata": {},
   "outputs": [],
   "source": [
    "# Q.12. If you had a bacon() feature in a spam module, what would you call it after importing spam?\n",
    "# answer-\n",
    "#       spam.bacon() this will be after importing spam"
   ]
  },
  {
   "cell_type": "code",
   "execution_count": 19,
   "id": "6a3bf224",
   "metadata": {},
   "outputs": [],
   "source": [
    "# Q.13. What can you do to save a programme from crashing if it encounters an error?\n",
    "#answer- \n",
    "#      We can write code with try and exceptions handling for avoiding crashing.\n",
    "#     We can use try clouse. "
   ]
  },
  {
   "cell_type": "code",
   "execution_count": 6,
   "id": "26031bdc",
   "metadata": {},
   "outputs": [],
   "source": [
    "# Q14. What is the purpose of the try clause? What is the purpose of the except clause?\n",
    "# answer-\n",
    "#       the purpose of try clause and except helps to solve an errors\n",
    "#       with the help of this clouse its helps to execute remaining code except the line which shows an error.\n",
    "#       The purpose of this clouse to execute the code and try to handle the error of code."
   ]
  },
  {
   "cell_type": "code",
   "execution_count": null,
   "id": "eb9420a9",
   "metadata": {},
   "outputs": [],
   "source": []
  }
 ],
 "metadata": {
  "kernelspec": {
   "display_name": "Python 3 (ipykernel)",
   "language": "python",
   "name": "python3"
  },
  "language_info": {
   "codemirror_mode": {
    "name": "ipython",
    "version": 3
   },
   "file_extension": ".py",
   "mimetype": "text/x-python",
   "name": "python",
   "nbconvert_exporter": "python",
   "pygments_lexer": "ipython3",
   "version": "3.9.7"
  }
 },
 "nbformat": 4,
 "nbformat_minor": 5
}
